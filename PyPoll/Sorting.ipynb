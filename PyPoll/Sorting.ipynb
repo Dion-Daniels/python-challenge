{
 "cells": [
  {
   "cell_type": "code",
   "execution_count": 100,
   "metadata": {
    "tags": []
   },
   "outputs": [],
   "source": [
    "#Import libraries\n",
    "import csv\n",
    "import os\n",
    "import collections\n",
    "from collections import Counter"
   ]
  },
  {
   "cell_type": "code",
   "execution_count": 101,
   "metadata": {},
   "outputs": [],
   "source": [
    "# Create path to dataset/csv file\n",
    "pollpath = os.path.join('Resources','election_data.csv')"
   ]
  },
  {
   "cell_type": "code",
   "execution_count": 102,
   "metadata": {},
   "outputs": [],
   "source": [
    "# Create variables\n",
    "candidate_list = []\n",
    "candidate_votes = []\n",
    "percentage_vote = []\n",
    "votes = Counter()\n",
    "totalvotes = 0\n",
    "winner = 0"
   ]
  },
  {
   "cell_type": "code",
   "execution_count": 103,
   "metadata": {},
   "outputs": [],
   "source": [
    "# create function to condense code and calculate percentages\n",
    "def percentage(candidate_votes, total_votes):\n",
    "  percentage = 100 * float(candidate_votes)/float(totalvotes)\n",
    "  percentage = \"%.3f\" % round(percentage,3)\n",
    "  return str(percentage) + \"%\""
   ]
  },
  {
   "cell_type": "code",
   "execution_count": 104,
   "metadata": {},
   "outputs": [],
   "source": [
    "#open dataset to begin reading data\n",
    "with open(pollpath, newline='') as csvfile:\n",
    "    csvreader = csv.reader(csvfile, delimiter=',')\n",
    "    csv_header = next(csvreader)\n",
    "    for row in csvreader:\n",
    "        # Tally total votes\n",
    "        totalvotes = totalvotes + 1\n",
    "        # Determine which candidate got the vote and tally vote towards them\n",
    "        candidate_name = row [2]\n",
    "        \n",
    "        if candidate_name not in candidate_list:\n",
    "            candidate_list.append(candidate_name)\n",
    "        if candidate_name in candidate_list:\n",
    "            votes[candidate_list[(candidate_list.index(candidate_name))]] += 1\n",
    "        "
   ]
  },
  {
   "cell_type": "code",
   "execution_count": 105,
   "metadata": {},
   "outputs": [],
   "source": [
    "for x in range(0,len(votes)):\n",
    "    candidate_votes.append(votes[candidate_list[x]])\n",
    "    percentage_vote.append(percentage(votes[candidate_list[x]],totalvotes))\n",
    "    if (votes[candidate_list[x]]) > winner:\n",
    "        winner = (votes[candidate_list[x]])\n",
    "        winner_name = candidate_list[x]"
   ]
  },
  {
   "cell_type": "code",
   "execution_count": 106,
   "metadata": {},
   "outputs": [
    {
     "name": "stdout",
     "output_type": "stream",
     "text": [
      "Election Results\n",
      "-------------------------\n",
      "Total Votes: 3521001\n",
      "-------------------------\n",
      "Khan: 63.000% (2218231)\n",
      "Correy: 20.000% (704200)\n",
      "Li: 14.000% (492940)\n",
      "O'Tooley: 3.000% (105630)\n",
      "-------------------------\n",
      "Winner: Khan\n",
      "-------------------------\n"
     ]
    }
   ],
   "source": [
    "print(\"Election Results\")\n",
    "print(\"-------------------------\")\n",
    "print(f\"Total Votes: {totalvotes}\")\n",
    "print(\"-------------------------\")\n",
    "for x in range(0,len(votes)):\n",
    "    print(f\"{candidate_list[x]}: {percentage_vote[x]} ({candidate_votes[x]})\")\n",
    "print(\"-------------------------\")\n",
    "print(f\"Winner: {winner_name}\")\n",
    "print(\"-------------------------\")\n",
    "    "
   ]
  },
  {
   "cell_type": "code",
   "execution_count": 107,
   "metadata": {},
   "outputs": [],
   "source": [
    "# create path to analysis folder to create analysis text file\n",
    "analysis_printout = os.path.join('analysis','anaylsis2.txt')   "
   ]
  },
  {
   "cell_type": "code",
   "execution_count": 108,
   "metadata": {},
   "outputs": [],
   "source": [
    "# open the analysis file and write/save my output to the file\n",
    "with open(analysis_printout,'w') as txtfile:\n",
    "    txtfile.write(\"Election Results\\n\")\n",
    "    txtfile.write(\"-------------------------\\n\")\n",
    "    txtfile.write(f\"Total Votes: {totalvotes}\\n\")\n",
    "    txtfile.write(\"-------------------------\\n\")\n",
    "    for x in range(0,len(votes)):\n",
    "     txtfile.write(f\"{candidate_list[x]}: {percentage_vote[x]} ({candidate_votes[x]})\\n\")\n",
    "    txtfile.write(\"-------------------------\\n\")\n",
    "    txtfile.write(f\"Winner: {winner}\\n\")\n",
    "    txtfile.write(\"-------------------------\\n\")    "
   ]
  },
  {
   "cell_type": "code",
   "execution_count": null,
   "metadata": {},
   "outputs": [],
   "source": []
  }
 ],
 "metadata": {
  "kernelspec": {
   "display_name": "Python 3 (ipykernel)",
   "language": "python",
   "name": "python3"
  },
  "language_info": {
   "codemirror_mode": {
    "name": "ipython",
    "version": 3
   },
   "file_extension": ".py",
   "mimetype": "text/x-python",
   "name": "python",
   "nbconvert_exporter": "python",
   "pygments_lexer": "ipython3",
   "version": "3.9.7"
  }
 },
 "nbformat": 4,
 "nbformat_minor": 4
}
